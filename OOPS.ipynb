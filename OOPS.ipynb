{
 "cells": [
  {
   "cell_type": "code",
   "execution_count": 2,
   "id": "c61cd0bc-d4ea-445c-99aa-62e45597d008",
   "metadata": {},
   "outputs": [],
   "source": [
    "\"\"\"\n",
    "Q1) What are the five key concepts of Object-Oriented Programming (OOP)?\n",
    "Answer-\n",
    "    Object-Oriented Programming (OOP) is a programming paradigm based on the concept of \"objects,\" which can contain data and code that \n",
    "    manipulates that data. The five key concepts of OOP are:\n",
    "    1) Classes - A class is a blueprint or template for creating objects. It defines what kind of objects can be created, along with the \n",
    "       properties they can have and actions they can perform.\n",
    "       \n",
    "    2) Objects - Objects are individual instances created from a class. If a class is a blueprint, then an object is like a specific house\n",
    "       built from that blueprint. It has its own state (represented by the values of its properties) and can use the methods defined in \n",
    "       its class.\n",
    "       \n",
    "    3) Encapsulation - Encapsulation means keeping the details of how something works hidden inside. This means an object's data \n",
    "       (attributes) can only be accessed and modified through its methods, protecting it from being changed in unexpected ways.\n",
    "       \n",
    "    4) Inheritance - Inheritance allows a new class to use the properties and methods of an existing class. It's like a child inheriting \n",
    "       traits from a parent.\n",
    "       \n",
    "    5) Polymorphism - Polymorphism allows objects to be treated as instances of their parent class rather than their actual class. \n",
    "       It means \"many shapes\" and allows the same method to behave differently based on the object that is calling it.\n",
    "       Polymorphism can be achieved through:\n",
    "       1) Method Overriding - where a subclass provides a specific implementation of a method that is already defined in its superclass.\n",
    "       2) Method Overloading - where multiple methods have the same name but different parameters.   \n",
    "\"\"\""
   ]
  },
  {
   "cell_type": "code",
   "execution_count": 13,
   "id": "613aa54d-f3cf-402b-9a44-e9cd58cd534b",
   "metadata": {},
   "outputs": [
    {
     "name": "stdout",
     "output_type": "stream",
     "text": [
      "Car brand: KIA, Model: Sonet\n"
     ]
    }
   ],
   "source": [
    "#class and object\n",
    "\n",
    "#creating a class \"Car\"\n",
    "class Car:\n",
    "    def __init__(self, brand, model):\n",
    "        self.brand = brand\n",
    "        self.model = model\n",
    "        \n",
    "    def get_info(self):\n",
    "        print(f\"Car brand: {self.brand}, Model: {self.model}\")\n",
    "\n",
    "        \n",
    "#creating an object \"my_car\" from class \"Car\"\n",
    "my_car = Car(\"KIA\", \"Sonet\")\n",
    "my_car.get_info()"
   ]
  },
  {
   "cell_type": "code",
   "execution_count": 14,
   "id": "8b922671-6a76-4357-92c6-2f0c09f4b85a",
   "metadata": {},
   "outputs": [
    {
     "name": "stdout",
     "output_type": "stream",
     "text": [
      "You have deposited Rs. 5000, Avl Bal: Rs. 15000\n",
      "You have withdrawn Rs. 2000, Avl Bal: Rs. 13000\n"
     ]
    },
    {
     "data": {
      "text/plain": [
       "13000"
      ]
     },
     "execution_count": 14,
     "metadata": {},
     "output_type": "execute_result"
    }
   ],
   "source": [
    "#Encapsulation\n",
    "class BankAccount:\n",
    "    def __init__(self, balance):\n",
    "        self.__balance = balance \n",
    "        \n",
    "    def deposit(self, amount):\n",
    "        if amount > 0 :\n",
    "            self.__balance += amount\n",
    "            print(f\"You have deposited Rs. {amount}, Avl Bal: Rs. {self.__balance}\")\n",
    "            \n",
    "    def withdraw(self, amount):\n",
    "        if amount > 0 and amount <= self.__balance:\n",
    "            self.__balance -= amount\n",
    "            print(f\"You have withdrawn Rs. {amount}, Avl Bal: Rs. {self.__balance}\")\n",
    "            \n",
    "    def get_balance(self):\n",
    "        return self.__balance\n",
    "    \n",
    "    \n",
    "account = BankAccount(10000)\n",
    "account.deposit(5000)\n",
    "account.withdraw(2000)\n",
    "account.get_balance()"
   ]
  },
  {
   "cell_type": "code",
   "execution_count": 15,
   "id": "d887b6a9-3457-4ef9-8564-4c65220aff8b",
   "metadata": {},
   "outputs": [
    {
     "name": "stdout",
     "output_type": "stream",
     "text": [
      "This is a child apple\n",
      "This is a Parent fruit\n",
      "This is a Parent fruit\n"
     ]
    }
   ],
   "source": [
    "#Inheritance\n",
    "class Fruit:\n",
    "    def fruit_info(self):\n",
    "        print(\"This is a Parent fruit\")\n",
    "        \n",
    "class Apple(Fruit):\n",
    "    def apple_info(self):\n",
    "        print(\"This is a child apple\")\n",
    "        \n",
    "child = Apple()\n",
    "child.apple_info()\n",
    "child.fruit_info()\n",
    "\n",
    "parent = Fruit()\n",
    "parent.fruit_info()"
   ]
  },
  {
   "cell_type": "code",
   "execution_count": 16,
   "id": "bc21c121-f9f5-4b92-9124-c741c01e1f0e",
   "metadata": {},
   "outputs": [
    {
     "name": "stdout",
     "output_type": "stream",
     "text": [
      "pw skills\n",
      "18\n"
     ]
    }
   ],
   "source": [
    "#Polymorphism (method overloading)\n",
    "class Calculator:\n",
    "    def add(self, a, b):\n",
    "        if isinstance(a, str) and isinstance(b, str):\n",
    "            return a + \" \" + b\n",
    "        \n",
    "        elif isinstance(a, (int, float)) and (b, (int, float)):\n",
    "            return a + b\n",
    "        \n",
    "        else:\n",
    "            return(\"Invalid Types\")\n",
    "        \n",
    "c = Calculator()\n",
    "print(c.add(\"pw\", \"skills\"))\n",
    "print(c.add(6, 12))"
   ]
  },
  {
   "cell_type": "code",
   "execution_count": 17,
   "id": "add8da80-acd3-491f-8181-526186fddd7b",
   "metadata": {},
   "outputs": [
    {
     "name": "stdout",
     "output_type": "stream",
     "text": [
      "animal sound\n",
      "cat meows\n"
     ]
    }
   ],
   "source": [
    "#polimorphism (method overriding)\n",
    "class Animal:\n",
    "    def sound(self):\n",
    "        print(\"animal sound\")\n",
    "        \n",
    "class Cat(Animal):\n",
    "    def sound(self):\n",
    "        print(\"cat meows\")\n",
    "        \n",
    "animal = Animal()\n",
    "animal.sound()\n",
    "\n",
    "cat = Cat()\n",
    "cat.sound()\n",
    "\n",
    "#method in parent class and child class with same method, the child class will be executed"
   ]
  },
  {
   "cell_type": "code",
   "execution_count": 18,
   "id": "017cbbb6-40ba-4585-99d4-5f42c63552c6",
   "metadata": {},
   "outputs": [
    {
     "name": "stdout",
     "output_type": "stream",
     "text": [
      "Your Car information- Make: KIA, Model: Kia Sonet, Year: 2024.\n"
     ]
    }
   ],
   "source": [
    "\"\"\"\n",
    "Q2) Write a Python class for a `Car` with attributes for `make`, `model`, and `year`. Include a method to display the car's information\n",
    "Answer-    \n",
    "\"\"\"\n",
    "\n",
    "class Car:\n",
    "    def __init__(self, make, model, year):\n",
    "        self.make = make\n",
    "        self.model = model\n",
    "        self.year = year\n",
    "        \n",
    "    def car_info(self):\n",
    "        print(f\"Your Car information- Make: {self.make}, Model: {self.model}, Year: {self.year}.\")\n",
    "        \n",
    "        \n",
    "my_car = Car(\"KIA\", \"Kia Sonet\", \"2024\")\n",
    "my_car.car_info()"
   ]
  },
  {
   "cell_type": "code",
   "execution_count": null,
   "id": "611049e3-46e5-46ed-93cb-d280580b24cf",
   "metadata": {},
   "outputs": [],
   "source": [
    "\"\"\"\n",
    "Q3) Explain the difference between instance methods and class methods. Provide an example of each.\n",
    "Answer-\n",
    "    Key differences between instance methods and class methods are as follows-\n",
    "    Instance Methods:\n",
    "    1) These are methods that work on a specific instance (object) of a class.\n",
    "    2) They can access and modify instance-specific data.\n",
    "    3) The first parameter is 'self', which refers to the instance calling the method.\n",
    "    4) They are bound to the instance of the class.\n",
    "    5) Instance methods are useful for object-specific behavior\n",
    "    \n",
    "    Class Methods:\n",
    "    1) These are methods that work on the class itself, not on individual instances.\n",
    "    2) They operate on class-level data (data shared by all instances of the class).\n",
    "    3) The first parameter is 'cls', which refers to the class itself.\n",
    "    4) They are bound to the class, not to an individual instance.\n",
    "    5) Instance methods are useful for object-specific behavior\n",
    "    6) Class methods are marked with the @classmethod decorator.\n",
    "\"\"\""
   ]
  },
  {
   "cell_type": "code",
   "execution_count": 19,
   "id": "5b933950-5a7a-43c8-b8fe-3aeed68f4311",
   "metadata": {},
   "outputs": [
    {
     "name": "stdout",
     "output_type": "stream",
     "text": [
      "Book: Who will cry when you die by Robbin Sharma.\n"
     ]
    }
   ],
   "source": [
    "# Example for instance method\n",
    "\n",
    "class Book:\n",
    "    def __init__(self, title, author):\n",
    "        self.title = title  \n",
    "        self.author = author\n",
    "        \n",
    "    #instance method    \n",
    "    def book_info(self):\n",
    "        print(f\"Book: {self.title} by {self.author}.\")\n",
    "        \n",
    "#calling instance method        \n",
    "new_book = Book(\"Who will cry when you die\", \"Robbin Sharma\")\n",
    "new_book.book_info()"
   ]
  },
  {
   "cell_type": "code",
   "execution_count": 20,
   "id": "f51159c5-d59c-423a-9e28-a6a5826d241f",
   "metadata": {},
   "outputs": [
    {
     "name": "stdout",
     "output_type": "stream",
     "text": [
      "Total Books: 2\n"
     ]
    }
   ],
   "source": [
    "# Example for class method\n",
    "\n",
    "class Book:\n",
    "    total_books = 0\n",
    "    def __init__(self, title, author):\n",
    "        self.title = title\n",
    "        self.author = author\n",
    "        Book.total_books += 1 \n",
    "     \n",
    "    #class method\n",
    "    @classmethod\n",
    "    def display_total_books(cls):\n",
    "        print(f\"Total Books: {cls.total_books}\")\n",
    "\n",
    "#calling class method\n",
    "shelf1 = Book(\"Ramayana\", \"Valmiki\")\n",
    "shelf2 = Book(\"Who will cry when you die\", \"Robbin Sharma\")\n",
    "\n",
    "Book.display_total_books()"
   ]
  },
  {
   "cell_type": "code",
   "execution_count": null,
   "id": "f1f2f7e3-446a-41b9-ad2b-163ccf2b0baf",
   "metadata": {},
   "outputs": [],
   "source": [
    "\"\"\"\n",
    "Q4) How does Python implement method overloading? Give an example.\n",
    "Answer-\n",
    "    Method overloading refers to defining multiple methods with the same name but different parameters in a class. Python does not support \n",
    "    method overloading directly. Instead, Python provides flexibility using techniques like:\n",
    "    1) Default arguments: You can define default values for arguments.\n",
    "    2) Variable-length arguments (*args and **kwargs): This allows you to accept an arbitrary number of positional or keyword arguments.\n",
    "    3) Type-checking: You can check the types of arguments inside a method to provide different behaviors.\n",
    "    Used case - In Python, we simulate method overloading by combining these techniques. We write a single method that handles different \n",
    "    types and numbers of arguments, thus mimicking the behavior of method overloading.\n",
    "    Following is an example for method overloading. \n",
    "\"\"\""
   ]
  },
  {
   "cell_type": "code",
   "execution_count": 21,
   "id": "9939d0bb-e3d4-4024-9cd7-a03fd0e80d38",
   "metadata": {},
   "outputs": [
    {
     "name": "stdout",
     "output_type": "stream",
     "text": [
      "Message: Welcome to PW Skills\n",
      "No message provided.\n"
     ]
    }
   ],
   "source": [
    "#method overloading(Default arguments)-\n",
    "class Printer:\n",
    "    def print_message(self, message = None):\n",
    "        if message is None :\n",
    "            print(\"No message provided.\")\n",
    "        else:\n",
    "            print(f\"Message: {message}\")\n",
    "\n",
    "printer = Printer()\n",
    "printer.print_message(\"Welcome to PW Skills\")\n",
    "printer.print_message()"
   ]
  },
  {
   "cell_type": "code",
   "execution_count": 22,
   "id": "4f3162a8-c188-48c1-b316-1851ad568a7c",
   "metadata": {},
   "outputs": [
    {
     "name": "stdout",
     "output_type": "stream",
     "text": [
      "16\n",
      "14\n",
      "410\n",
      "Name: Rama\n",
      "Age: 25\n",
      "Name: Seetha\n",
      "City: Panchavati\n"
     ]
    }
   ],
   "source": [
    "#method overloading(Variable-length arguments)-\n",
    "#*args\n",
    "class Math_operation:\n",
    "    def add(self, *args):\n",
    "        return sum(args)\n",
    "    \n",
    "n = Math_operation()\n",
    "print(n.add(3, 6, 7))\n",
    "print(n.add(4, 10))\n",
    "print(n.add(410))\n",
    "\n",
    "\n",
    "#**kwargs\n",
    "class User_info:\n",
    "    def display_info(self, **kwargs):\n",
    "        for key, value in kwargs.items():\n",
    "            print(f\"{key}: {value}\")\n",
    "            \n",
    "user = User_info()\n",
    "user.display_info(Name = \"Rama\", Age = 25)\n",
    "user.display_info(Name = \"Seetha\", City = \"Panchavati\")"
   ]
  },
  {
   "cell_type": "code",
   "execution_count": 23,
   "id": "12d26c22-2f61-4941-9b0e-341d2dd02248",
   "metadata": {},
   "outputs": [
    {
     "name": "stdout",
     "output_type": "stream",
     "text": [
      "pw skills\n",
      "18\n"
     ]
    }
   ],
   "source": [
    "#Overloading using Type Checking (Multiple Data Types)\n",
    "class Calculator:\n",
    "    def add(self, a, b):\n",
    "        if isinstance(a, str) and isinstance(b, str):\n",
    "            return a + \" \" + b\n",
    "        \n",
    "        elif isinstance(a, (int, float)) and (b, (int, float)):\n",
    "            return a + b\n",
    "        \n",
    "        else:\n",
    "            return(\"Invalid Types\")\n",
    "        \n",
    "c = Calculator()\n",
    "print(c.add(\"pw\", \"skills\"))\n",
    "print(c.add(6, 12))"
   ]
  },
  {
   "cell_type": "code",
   "execution_count": null,
   "id": "d47d5c8d-04ac-4634-ad52-29ff48368e63",
   "metadata": {},
   "outputs": [],
   "source": [
    "\"\"\"\n",
    "Q5) What are the three types of access modifiers in Python? How are they denoted?\n",
    "Answer-\n",
    "    In Python, access modifiers determine the accessibility or visibility of variables, methods, and classes.\n",
    "    There are three types of access modifiers in Python:\n",
    "    1) Public - variables or methods that are declared as public are accessible from anywhere, both inside and outside the class. \n",
    "       Public members are defined without any special notation. By default, all members in Python are public unless specified otherwise.\n",
    "       \n",
    "    2) Protected - Members that are declared as protected can be accessed within the class and its subclasses, but not directly from \n",
    "       outside the class. Protected members are meant for internal use in the class or its subclasses. Protected members are denoted by \n",
    "       a single underscore (_) prefix.\n",
    "       \n",
    "    3) Private - Private members are accessible only within the class in which they are declared. They are not meant to be accessed directly\n",
    "       from outside the class. Private members are denoted by a double underscore (__) prefix.\n",
    "\"\"\""
   ]
  },
  {
   "cell_type": "code",
   "execution_count": 24,
   "id": "ce03f4a7-be54-4614-9892-953fc180c162",
   "metadata": {},
   "outputs": [
    {
     "name": "stdout",
     "output_type": "stream",
     "text": [
      "This is a public method\n",
      "I am Public\n"
     ]
    }
   ],
   "source": [
    "#Examples of Public, Private, Protected access modifiers\n",
    "\n",
    "#Public\n",
    "class My_class:\n",
    "    def __init__(self):\n",
    "        self.public_var = \"I am Public\"\n",
    "        \n",
    "    def access_public(self):\n",
    "        return \"This is a public method\"\n",
    "    \n",
    "object1 = My_class()\n",
    "print(object1.access_public())\n",
    "print(object1.public_var)"
   ]
  },
  {
   "cell_type": "code",
   "execution_count": 25,
   "id": "c6705c66-bb3e-4f6a-9930-d11015825aa3",
   "metadata": {},
   "outputs": [
    {
     "name": "stdout",
     "output_type": "stream",
     "text": [
      "I am protected\n"
     ]
    },
    {
     "data": {
      "text/plain": [
       "'I am from protected method'"
      ]
     },
     "execution_count": 25,
     "metadata": {},
     "output_type": "execute_result"
    }
   ],
   "source": [
    "#Protected\n",
    "class My_class:\n",
    "    def __init__(self):\n",
    "        self._protected_var = \"I am protected\"\n",
    "        \n",
    "    def access_protected(self):\n",
    "        return self._protected_var\n",
    "        \n",
    "    def _protected_method(self):\n",
    "        return \"I am from protected method\"\n",
    "    \n",
    "    def access_protected_method(self):\n",
    "        self._protected_method()\n",
    "    \n",
    "object2 = My_class()\n",
    "print(object2.access_protected())\n",
    "\n",
    "object2._protected_method()"
   ]
  },
  {
   "cell_type": "code",
   "execution_count": 26,
   "id": "d448b357-4f87-4bc3-9218-c575f288cdc6",
   "metadata": {},
   "outputs": [
    {
     "name": "stdout",
     "output_type": "stream",
     "text": [
      "I am private\n"
     ]
    },
    {
     "data": {
      "text/plain": [
       "'I am from private method'"
      ]
     },
     "execution_count": 26,
     "metadata": {},
     "output_type": "execute_result"
    }
   ],
   "source": [
    "#private\n",
    "class My_class:\n",
    "    def __init__(self):\n",
    "        self.__private_var = \"I am private\"\n",
    "        \n",
    "    def access_private(self):\n",
    "        return self.__private_var\n",
    "        \n",
    "    def __private_method(self):\n",
    "        return \"I am from private method\"\n",
    "    \n",
    "object3 = My_class()\n",
    "print(object3.access_private())\n",
    "\n",
    "object3._My_class__private_method()"
   ]
  },
  {
   "cell_type": "code",
   "execution_count": null,
   "id": "fa4ef0df-3162-414d-b46c-fe1457434843",
   "metadata": {},
   "outputs": [],
   "source": [
    "\"\"\"\n",
    "Q6) Describe the five types of inheritance in Python. Provide a simple example of multiple inheritance.\n",
    "Answer-\n",
    "    The five types of inheritance are as follows:\n",
    "    1) Single inheritance - A single class inherits from only one base class.\n",
    "    2) Multiple inheritance - A class can inherit from more than one base class.\n",
    "    3) Multilevel inheritance - A class can inherit from another class, and that class can, in turn, inherit from yet another class.\n",
    "    4) Hirarchical inheritance - More than one class inherits from a single base class.\n",
    "    5) Hybrid inheritance - A combination of multiple types of inheritance (such as multiple and multilevel inheritance).\n",
    "\"\"\""
   ]
  },
  {
   "cell_type": "code",
   "execution_count": 27,
   "id": "a35fd4be-62ba-4575-8248-ec85d4819d5a",
   "metadata": {},
   "outputs": [
    {
     "name": "stdout",
     "output_type": "stream",
     "text": [
      "Parent class\n",
      "child class\n"
     ]
    }
   ],
   "source": [
    "#Single inheritance\n",
    "class Parent:\n",
    "    def display(self):\n",
    "        print(\"Parent class\")\n",
    "        \n",
    "class Child(Parent):\n",
    "    def show(self):\n",
    "        print(\"child class\")\n",
    "        \n",
    "Single_inheritance = Child()\n",
    "Single_inheritance.display()\n",
    "Single_inheritance.show()"
   ]
  },
  {
   "cell_type": "code",
   "execution_count": 28,
   "id": "765a0093-227e-4e87-babb-4e020ca24343",
   "metadata": {},
   "outputs": [
    {
     "name": "stdout",
     "output_type": "stream",
     "text": [
      "Parent1 class\n",
      "Parent2 class\n",
      "child1 class\n"
     ]
    }
   ],
   "source": [
    "# Multiple inheritance\n",
    "\n",
    "class Parent1:\n",
    "    def method1(self):\n",
    "        print(\"Parent1 class\")\n",
    "        \n",
    "class Parent2:\n",
    "    def method2(self):\n",
    "        print(\"Parent2 class\")\n",
    "        \n",
    "class Child1(Parent1, Parent2):\n",
    "    def method3(self):\n",
    "        print(\"child1 class\")\n",
    "        \n",
    "Multiple_inheritance = Child1()\n",
    "Multiple_inheritance.method1()\n",
    "Multiple_inheritance.method2()\n",
    "Multiple_inheritance.method3()"
   ]
  },
  {
   "cell_type": "code",
   "execution_count": 29,
   "id": "1fee0a22-4785-4c62-a8c9-c8eae8e8f003",
   "metadata": {},
   "outputs": [
    {
     "name": "stdout",
     "output_type": "stream",
     "text": [
      "method from Grand father class\n",
      "method from Father class\n",
      "method from Son class\n"
     ]
    }
   ],
   "source": [
    "# Multilevel inheritance\n",
    "class GrandFather:\n",
    "    def method1(self):\n",
    "        print(\"method from Grand father class\")\n",
    "        \n",
    "class Father(GrandFather):\n",
    "    def method2(self):\n",
    "        print(\"method from Father class\")\n",
    "        \n",
    "class Son(Father):\n",
    "    def method3(self):\n",
    "        print(\"method from Son class\")\n",
    "        \n",
    "Multilevel_inheritance = Son()\n",
    "Multilevel_inheritance.method1()\n",
    "Multilevel_inheritance.method2()\n",
    "Multilevel_inheritance.method3()"
   ]
  },
  {
   "cell_type": "code",
   "execution_count": 30,
   "id": "240d14c1-fb1b-4be3-bac2-7fe04e856622",
   "metadata": {},
   "outputs": [
    {
     "name": "stdout",
     "output_type": "stream",
     "text": [
      "method from parents class\n",
      "method from child1 class\n",
      "method from parents class\n",
      "method from child2 class\n"
     ]
    }
   ],
   "source": [
    "#Hirarchical inheritance\n",
    "class Parents:\n",
    "    def method1(self):\n",
    "        print(\"method from parents class\")\n",
    "        \n",
    "class Child1(Parents):\n",
    "    def method2(self):\n",
    "        print(\"method from child1 class\")\n",
    "        \n",
    "class Child2(Parents):\n",
    "    def method3(self):\n",
    "        print(\"method from child2 class\")\n",
    "        \n",
    "object1 = Child1()\n",
    "object1.method1()\n",
    "object1.method2()\n",
    "\n",
    "object2 = Child2()\n",
    "object2.method1()\n",
    "object2.method3()"
   ]
  },
  {
   "cell_type": "code",
   "execution_count": 31,
   "id": "12216d6d-90db-48db-845d-be3fe1bacd45",
   "metadata": {},
   "outputs": [
    {
     "name": "stdout",
     "output_type": "stream",
     "text": [
      "method from parents class\n",
      "method from child1 class\n",
      "method from child2 class\n",
      "method from grand child\n"
     ]
    }
   ],
   "source": [
    "#Hybrid inheritance\n",
    "class Parents:\n",
    "    def method1(self):\n",
    "        print(\"method from parents class\")\n",
    "        \n",
    "class Child1(Parents):\n",
    "    def method2(self):\n",
    "        print(\"method from child1 class\")\n",
    "        \n",
    "class Child2(Parents):\n",
    "    def method3(self):\n",
    "        print(\"method from child2 class\")\n",
    "        \n",
    "class GrandChild(Child1, Child2):\n",
    "    def method4(self):\n",
    "        print(\"method from grand child\")\n",
    "        \n",
    "Hybrid_inheritance = GrandChild()\n",
    "Hybrid_inheritance.method1()\n",
    "Hybrid_inheritance.method2()\n",
    "Hybrid_inheritance.method3()\n",
    "Hybrid_inheritance.method4()"
   ]
  },
  {
   "cell_type": "code",
   "execution_count": null,
   "id": "903e0790-9ed8-4d8e-bbfe-26e1c835be13",
   "metadata": {},
   "outputs": [],
   "source": [
    "\"\"\"\n",
    "Q7) What is the Method Resolution Order (MRO) in Python? How can you retrieve it programmatically?\n",
    "Answer-\n",
    "    The Method Resolution Order (MRO) in Python is the order in which Python looks for methods and attributes in a class hierarchy when \n",
    "    multiple inheritance is involved. It defines the sequence of classes that are searched to find a method or attribute. This ensures that\n",
    "    Python determines the proper method to call when multiple classes share the same method name.\n",
    "    We can retrieve the MRO in Python in two ways:\n",
    "    1) Using mro() method - Every class in Python has an mro() method, which returns a list of classes in the order in which methods will be\n",
    "       looked up.\n",
    "    2) Using __mro__ attribute - You can also use the __mro__ attribute to get the MRO of a class, which is a tuple containing the classes\n",
    "       in the order of resolution."
   ]
  },
  {
   "cell_type": "code",
   "execution_count": 32,
   "id": "9f176b8b-b28b-483c-ac0a-7bf43f070990",
   "metadata": {},
   "outputs": [
    {
     "name": "stdout",
     "output_type": "stream",
     "text": [
      "[<class '__main__.Child'>, <class '__main__.Parent1'>, <class '__main__.Parent2'>, <class 'object'>]\n"
     ]
    }
   ],
   "source": [
    "# Using mro() method\n",
    "class Parent1:\n",
    "    pass\n",
    "\n",
    "class Parent2:\n",
    "    pass\n",
    "\n",
    "class Child(Parent1, Parent2):\n",
    "    pass\n",
    "\n",
    "print(Child.mro())"
   ]
  },
  {
   "cell_type": "code",
   "execution_count": 33,
   "id": "8a6e7765-4e1b-4256-89aa-8ee479e0bee3",
   "metadata": {},
   "outputs": [
    {
     "name": "stdout",
     "output_type": "stream",
     "text": [
      "(<class '__main__.Child'>, <class '__main__.Parent1'>, <class '__main__.Parent2'>, <class 'object'>)\n"
     ]
    }
   ],
   "source": [
    "# Using __mro__ attribute\n",
    "class Parent1:\n",
    "    pass\n",
    "\n",
    "class Parent2:\n",
    "    pass\n",
    "\n",
    "class Child(Parent1, Parent2):\n",
    "    pass\n",
    "\n",
    "print(Child.__mro__)"
   ]
  },
  {
   "cell_type": "code",
   "execution_count": 34,
   "id": "f38255da-9eba-4571-9042-bb1c913521bd",
   "metadata": {},
   "outputs": [
    {
     "name": "stdout",
     "output_type": "stream",
     "text": [
      "Area of Circle is pi r**2\n",
      "Area of Rectangle is length * breadth\n"
     ]
    }
   ],
   "source": [
    "\"\"\"\n",
    "Q8) Create an abstract base class `Shape` with an abstract method `area()`. Then create two subclasses `Circle` and `Rectangle` that \n",
    "    implement the`area()` method.\n",
    "Answer- \n",
    "\"\"\"\n",
    "import abc\n",
    "\n",
    "class Shape:\n",
    "    @abc.abstractmethod\n",
    "    def area(sellf):\n",
    "        pass\n",
    "    \n",
    "class Circle(Shape):\n",
    "    def area(self):\n",
    "        return \"Area of Circle is pi r**2\"\n",
    "    \n",
    "class Rectangle(Shape):\n",
    "    def area(self):\n",
    "        return \"Area of Rectangle is length * breadth\"\n",
    "    \n",
    "c = Circle()\n",
    "print(c.area())\n",
    "\n",
    "r = Rectangle()\n",
    "print(r.area())"
   ]
  },
  {
   "cell_type": "code",
   "execution_count": 35,
   "id": "3b927cde-af09-44cd-babd-81ad14dc2f9b",
   "metadata": {},
   "outputs": [
    {
     "name": "stdout",
     "output_type": "stream",
     "text": [
      "The area of Circle is 50.24\n",
      "The area of Rectangle is 24\n"
     ]
    }
   ],
   "source": [
    "\"\"\"\n",
    "Q9) Demonstrate polymorphism by creating a function that can work with different shape objects to calculate and print their areas.\n",
    "Answer- An example of using polymorphism to calculate and print the area of different shapes:\n",
    "\"\"\"\n",
    "class Shape:\n",
    "    def calculate_area(self):\n",
    "        pass\n",
    "    \n",
    "class Circle(Shape):\n",
    "    def __init__(self, radius):\n",
    "        self.radius = radius\n",
    "        \n",
    "    def calculate_area(self):\n",
    "        return (f\"The area of Circle is {3.14 * self.radius ** 2}\")\n",
    "        \n",
    "class Rectangle(Shape):\n",
    "    def __init__(self, length, breadth):\n",
    "        self.length = length\n",
    "        self.breadth = breadth\n",
    "        \n",
    "    def calculate_area(self):\n",
    "        return (f\"The area of Rectangle is {self.length * self.breadth}\")\n",
    "    \n",
    "area = Circle(4)\n",
    "print(area.calculate_area())\n",
    "\n",
    "rectangle = Rectangle(4, 6)\n",
    "print(rectangle.calculate_area())"
   ]
  },
  {
   "cell_type": "code",
   "execution_count": 36,
   "id": "24f63963-d802-4091-a8da-cb5645f55b14",
   "metadata": {},
   "outputs": [
    {
     "name": "stdout",
     "output_type": "stream",
     "text": [
      "Available Balance: 0\n",
      "You have deposited Rs. 10000, Available Balance: 10000\n",
      "You have withdrawn Rs. 2000, Available Balance: 8000\n"
     ]
    }
   ],
   "source": [
    "\"\"\"\n",
    "Q10) Implement encapsulation in a `BankAccount` class with private attributes for `balance` and `account_number`. Include methods for \n",
    "     deposit, withdrawal, and balance inquiry.\n",
    "Answer-\n",
    "\"\"\"\n",
    "class BankAccount:\n",
    "    def __init__(self, balance, account_number):\n",
    "        self.__balance = balance\n",
    "        self.__account_number = account_number\n",
    "        \n",
    "    def deposit(self, amount):\n",
    "        if amount > 0 :\n",
    "            self.__balance += amount\n",
    "            print(f\"You have deposited Rs. {amount}, Available Balance: {self.__balance}\")\n",
    "            \n",
    "    def withdraw(self, amount):\n",
    "        if amount <= self.__balance:\n",
    "            self.__balance -= amount\n",
    "            print(f\"You have withdrawn Rs. {amount}, Available Balance: {self.__balance}\")\n",
    "            \n",
    "    def balance_inquiry(self, account_number):\n",
    "        print(f\"Available Balance: {self.__balance}\")\n",
    "        \n",
    "My_account = BankAccount(0, \"123\")\n",
    "My_account.balance_inquiry(\"123\")\n",
    "\n",
    "My_account.deposit(10000)\n",
    "\n",
    "My_account.withdraw(2000)"
   ]
  },
  {
   "cell_type": "code",
   "execution_count": 37,
   "id": "e110b632-572b-48fe-9c0c-49296632270f",
   "metadata": {},
   "outputs": [
    {
     "name": "stdout",
     "output_type": "stream",
     "text": [
      "Ram,25 years old.\n",
      "Seetha,20 years old.\n",
      "45\n"
     ]
    }
   ],
   "source": [
    "\"\"\"\n",
    "Q11) Write a class that overrides the `__str__` and `__add__` magic methods. What will these methods allow you to do?\n",
    "Answer-\n",
    "     Python class that overrides the __str__ and __add__ magic methods:\n",
    "\"\"\"\n",
    "class Person:\n",
    "    def __init__(self, name, age):\n",
    "        self.name = name\n",
    "        self.age = age\n",
    "        \n",
    "    def __str__(self):\n",
    "        return f\"{self.name},{self.age} years old.\"\n",
    "    \n",
    "    def __add__(self, other):\n",
    "        if isinstance(other, Person):\n",
    "            return self.age + other.age\n",
    "            \n",
    "        else:\n",
    "            raise TypeError(\"You can only add other Person object.\")\n",
    "            \n",
    "            \n",
    "person1 = Person(\"Ram\", 25)\n",
    "person2 = Person(\"Seetha\", 20)\n",
    "combined_age = person1 + person2\n",
    "\n",
    "print(person1)\n",
    "print(person2)\n",
    "print(combined_age)\n",
    "\n",
    "#__str__: When you use print(person1) or print(person2), the __str__ method is called to provide a string that describes the object.\n",
    "#__add__: When you add two Person objects(person1 + person2), the __add__ method is called. This method adds the age of both Person objects."
   ]
  },
  {
   "cell_type": "code",
   "execution_count": 38,
   "id": "754e64cf-784d-4a0c-9709-fadc064fac27",
   "metadata": {},
   "outputs": [
    {
     "name": "stdout",
     "output_type": "stream",
     "text": [
      "this is a test function\n",
      "Execution time: 5.5789947509765625e-05\n"
     ]
    }
   ],
   "source": [
    "\"\"\"\n",
    "Q12) Create a decorator that measures and prints the execution time of a function.\n",
    "Answer-\n",
    "\"\"\"\n",
    "import time\n",
    "\n",
    "def time_decorator(func):\n",
    "    def timer():\n",
    "        start_time = time.time()\n",
    "        func()\n",
    "        end_time = time.time()\n",
    "        print(f\"Execution time: {end_time - start_time}\")\n",
    "    return timer\n",
    "    \n",
    "@time_decorator\n",
    "def test_func():\n",
    "    print(\"this is a test function\")\n",
    "    \n",
    "test_func()"
   ]
  },
  {
   "cell_type": "code",
   "execution_count": 39,
   "id": "90fc6287-7783-41d9-872d-c5bcb818900a",
   "metadata": {},
   "outputs": [
    {
     "name": "stdout",
     "output_type": "stream",
     "text": [
      "method of child class\n",
      "Method2 of parent class2\n"
     ]
    }
   ],
   "source": [
    "\"\"\"\n",
    "Q13) Explain the concept of the Diamond Problem in multiple inheritance. How does Python resolve it?\n",
    "Answer- \n",
    "    The Diamond Problem in multiple inheritance occurs when a class inherits from two or more classes that have a common ancestor, leading\n",
    "    to ambiguity about which method or attribute should be used from the common ancestor.Python resolves the Diamond Problem using a \n",
    "    concept called Method Resolution Order (MRO). MRO is the order in which Python looks for a method in the inheritance hierarchy. \n",
    "    Python follows the C3 linearization algorithm to determine this order.\n",
    "    In Python, the MRO ensures that a class's method is checked before its parent classes, and the order is determined based on the\n",
    "    inheritance order.\n",
    "\"\"\"\n",
    "\n",
    "#Diamond problem\n",
    "class ParentClass1:\n",
    "    def method_parent(self):\n",
    "        print(\"Method1 of parent class1\")\n",
    "        \n",
    "class ParentClass2:\n",
    "    def method_parent(self):\n",
    "        print(\"Method2 of parent class2\")\n",
    "        \n",
    "class ChildClass(ParentClass2, ParentClass1):\n",
    "    def method(self):\n",
    "        print(\"method of child class\")\n",
    "        \n",
    "c1 = ChildClass()\n",
    "c1.method()\n",
    "\n",
    "c1.method_parent()\n",
    "\n",
    "#ParentClass2 overrides the method_parent method from ParentClass1. ChildClass inherits both ParentClass1 and ParentClass2.\n",
    "#when we call c1.method_parent, using the concept of MRO python executes the method of class which is first inherited by a child class or\n",
    "#derived class."
   ]
  },
  {
   "cell_type": "code",
   "execution_count": 40,
   "id": "425b9eee-5974-4a51-aebc-dac1dda7246d",
   "metadata": {},
   "outputs": [
    {
     "name": "stdout",
     "output_type": "stream",
     "text": [
      "1\n",
      "2\n",
      "3\n"
     ]
    }
   ],
   "source": [
    "\"\"\"\n",
    "Q14) Write a class method that keeps track of the number of instances created from a class.\n",
    "Answer-\n",
    "\"\"\"\n",
    "class Students:\n",
    "    \n",
    "    total_students = 0\n",
    "    \n",
    "    def __init__(self, name):\n",
    "        self.name = name\n",
    "        Students.total_students += 1\n",
    "     \n",
    "    @classmethod\n",
    "    def get_total_students(cls):\n",
    "        return cls.total_students\n",
    "    \n",
    "student1 = Students(\"Gopal\")\n",
    "print(student1.get_total_students())\n",
    "\n",
    "student2 = Students(\"Krishna\")\n",
    "print(student2.get_total_students())\n",
    "\n",
    "student3 = Students(\"Yashodha\")\n",
    "print(student3.get_total_students())"
   ]
  },
  {
   "cell_type": "code",
   "execution_count": 41,
   "id": "727f25a4-f350-4d41-9c54-7b72d4529ea2",
   "metadata": {},
   "outputs": [
    {
     "name": "stdout",
     "output_type": "stream",
     "text": [
      "2000 is a leap year.\n",
      "2005 is not a leap year.\n",
      "2004 is a leap year.\n",
      "1900 is not a leap year.\n"
     ]
    }
   ],
   "source": [
    "\"\"\"\n",
    "Q15) Implement a static method in a class that checks if a given year is a leap year.\n",
    "Answer-\n",
    "\"\"\"\n",
    "class Calender:\n",
    "    @staticmethod\n",
    "    def leap_year(year):\n",
    "        if year % 4 == 0 and (year % 100 != 0 or year % 400 == 0): \n",
    "             print(f\"{year} is a leap year.\")\n",
    "            \n",
    "        else:\n",
    "            print(f\"{year} is not a leap year.\")\n",
    "            \n",
    "Year = Calender()\n",
    "Year.leap_year(2000)\n",
    "\n",
    "Year.leap_year(2005)\n",
    "\n",
    "Year.leap_year(2004)\n",
    "\n",
    "Year.leap_year(1900)"
   ]
  }
 ],
 "metadata": {
  "kernelspec": {
   "display_name": "Python 3 (ipykernel)",
   "language": "python",
   "name": "python3"
  },
  "language_info": {
   "codemirror_mode": {
    "name": "ipython",
    "version": 3
   },
   "file_extension": ".py",
   "mimetype": "text/x-python",
   "name": "python",
   "nbconvert_exporter": "python",
   "pygments_lexer": "ipython3",
   "version": "3.10.8"
  }
 },
 "nbformat": 4,
 "nbformat_minor": 5
}
